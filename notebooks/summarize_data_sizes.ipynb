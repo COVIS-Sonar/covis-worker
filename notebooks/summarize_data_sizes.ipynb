{
 "cells": [
  {
   "cell_type": "code",
   "execution_count": 39,
   "metadata": {},
   "outputs": [],
   "source": [
    "import pandas as pd\n",
    "import re\n"
   ]
  },
  {
   "cell_type": "code",
   "execution_count": 59,
   "metadata": {},
   "outputs": [],
   "source": [
    "csv_file = 'covis_raw_data_report_20190221.csv'\n",
    "\n",
    "data = pd.read_csv(csv_file)\n",
    "data['datetime'] = pd.to_datetime(data['datetime'])"
   ]
  },
  {
   "cell_type": "code",
   "execution_count": 60,
   "metadata": {},
   "outputs": [
    {
     "name": "stdout",
     "output_type": "stream",
     "text": [
      "Total of 5862 data files spanning 200 days from 2018-07-29 to 2019-02-14\n",
      "Raw size   4208.09 GB  (  4518400260466 bytes)\n",
      "gz size    1164.55 GB  (  1250422578181 bytes) mean compression 27.67 pct\n",
      "7z size     712.02 GB  (   764527773126 bytes) mean compression 16.92 pct\n"
     ]
    }
   ],
   "source": [
    "raw_size = data['raw_size'].sum()\n",
    "gz_size  = data['gz_size'].sum()\n",
    "zip_size = data['7z_size'].sum()\n",
    "\n",
    "date_min = data['datetime'].min()\n",
    "date_max = data['datetime'].max()\n",
    "date_span = date_max - date_min\n",
    "\n",
    "\n",
    "print(\"Total of %d data files spanning %d days from %s to %s\" % (len(data.index), date_span.days, \\\n",
    "                                                                date_min.strftime('%Y-%m-%d'), \\\n",
    "                                                                 date_max.strftime('%Y-%m-%d')) )\n",
    "print(\"Raw size % 9.2f GB  (%15d bytes)\" % (raw_size / 1024**3, raw_size))\n",
    "print(\"gz size  % 9.2f GB  (%15d bytes) mean compression %.2f pct\" % ( gz_size / 1024**3,  gz_size, 100*gz_size/raw_size))\n",
    "print(\"7z size  % 9.2f GB  (%15d bytes) mean compression %.2f pct\" % (zip_size / 1024**3, zip_size, 100*zip_size/raw_size))\n",
    "\n"
   ]
  },
  {
   "cell_type": "code",
   "execution_count": 61,
   "metadata": {},
   "outputs": [
    {
     "name": "stdout",
     "output_type": "stream",
     "text": [
      "    survey : 3\n",
      "   imaging : 1548\n",
      "   diffuse : 4172\n",
      "    target : 18\n",
      "   doppler : 99\n",
      "     bathy : 3\n",
      "      pano : 19\n"
     ]
    }
   ],
   "source": [
    "squash = { 'diffuse': re.compile('diffuse*'),\n",
    "            'doppler': re.compile('doppler*'),\n",
    "             'imaging': re.compile('imag*'),\n",
    "             'bathy':  re.compile('bathy*'),\n",
    "             'survey':  re.compile('survey*'),\n",
    "             'pano': re.compile('pano*')}\n",
    "\n",
    "\n",
    "types = {}\n",
    "for index, entry in data.iterrows():\n",
    "    mode = entry['mode']\n",
    "    \n",
    "    for key,regex in squash.items():\n",
    "        if regex.match(mode):\n",
    "            mode = key\n",
    "            break\n",
    "        \n",
    "    if mode not in types:\n",
    "        types[mode] = 0\n",
    "        \n",
    "    types[mode] += 1\n",
    "    \n",
    "for mode,count in types.items():\n",
    "    print(\"%10s : %d\" % (mode,count))\n",
    "    "
   ]
  },
  {
   "cell_type": "code",
   "execution_count": 62,
   "metadata": {},
   "outputs": [
    {
     "name": "stdout",
     "output_type": "stream",
     "text": [
      "   survey1 : 1\n",
      "   survey2 : 1\n",
      "   imaging : 1\n",
      "   diffuse : 9\n",
      "   survey3 : 1\n",
      "  diffuse3 : 479\n",
      "  diffuse2 : 515\n",
      "  diffuse1 : 480\n",
      "    target : 18\n",
      "  imaging1 : 177\n",
      "  imaging2 : 180\n",
      "  imaging3 : 184\n",
      "  doppler1 : 1\n",
      "  doppler2 : 97\n",
      "  doppler3 : 1\n",
      "diffuse2up : 1\n",
      "diffuse2down : 3\n",
      "diffuse3down : 1\n",
      "diffuse1down : 1\n",
      "    bathy2 : 1\n",
      "    bathy1 : 1\n",
      "    bathy3 : 1\n",
      "diffuse3deep : 213\n",
      "diffuse1deep : 206\n",
      "diffuse2deep : 217\n",
      "diffuse2shallow : 219\n",
      "diffuse1shallow : 214\n",
      "diffuse3shallow : 216\n",
      "  panoleft : 8\n",
      "panocenter : 7\n",
      " panoright : 2\n",
      "diffuseright : 709\n",
      "diffuseleft : 689\n",
      " panoleft2 : 1\n",
      "panoright2 : 1\n",
      " imageleft : 503\n",
      "imagecenter : 503\n"
     ]
    }
   ],
   "source": [
    "types = {}\n",
    "for index, entry in data.iterrows():\n",
    "    mode = entry['mode']\n",
    "    if mode not in types:\n",
    "        types[mode] = 0\n",
    "        \n",
    "    types[mode] += 1\n",
    "    \n",
    "for mode,count in types.items():\n",
    "    print(\"%10s : %d\" % (mode,count))"
   ]
  },
  {
   "cell_type": "code",
   "execution_count": null,
   "metadata": {},
   "outputs": [],
   "source": []
  }
 ],
 "metadata": {
  "kernelspec": {
   "display_name": "Python 3",
   "language": "python",
   "name": "python3"
  },
  "language_info": {
   "codemirror_mode": {
    "name": "ipython",
    "version": 3
   },
   "file_extension": ".py",
   "mimetype": "text/x-python",
   "name": "python",
   "nbconvert_exporter": "python",
   "pygments_lexer": "ipython3",
   "version": "3.6.8"
  }
 },
 "nbformat": 4,
 "nbformat_minor": 2
}
