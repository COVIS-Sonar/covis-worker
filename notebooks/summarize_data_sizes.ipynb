{
 "cells": [
  {
   "cell_type": "code",
   "execution_count": 1,
   "metadata": {},
   "outputs": [],
   "source": [
    "import pandas as pd\n",
    "import re\n",
    "\n",
    "import matplotlib.pyplot as plt\n",
    "%matplotlib inline\n"
   ]
  },
  {
   "cell_type": "code",
   "execution_count": 2,
   "metadata": {},
   "outputs": [
    {
     "name": "stdout",
     "output_type": "stream",
     "text": [
      "Index(['basename', 'datetime', 'site', 'mode', 'raw_size', 'gz_size',\n",
      "       '7z_size'],\n",
      "      dtype='object')\n"
     ]
    }
   ],
   "source": [
    "csv_file = 'covis_db_metadata_report_20190403.csv'\n",
    "\n",
    "data = pd.read_csv(csv_file)\n",
    "data['datetime'] = pd.to_datetime(data['datetime'])\n",
    "data.rename( columns={\"# basename\" : \"basename\"}, inplace=True )\n",
    "print(data.columns)"
   ]
  },
  {
   "cell_type": "code",
   "execution_count": 5,
   "metadata": {},
   "outputs": [
    {
     "name": "stdout",
     "output_type": "stream",
     "text": [
      "Mean gz compression: 29.58 %\n",
      "Total of 54805 data files spanning 3107 days from 2010-09-30 to 2019-04-03\n",
      "Raw size  119597.81 GB  (128417169874498 bytes)\n",
      "\n",
      "466 files with no reported raw size\n",
      "14 files with no reported 7z size\n",
      "\n",
      "7390 files with reported .gz size (only files from Ashes which are posted to S3 bucket)\n",
      "gz size    1649.32 GB  (  1770944963473 bytes) mean compression 29.58 pct\n",
      "\n",
      "54791 files with reported .7z size\n",
      "7z size   21072.46 GB  ( 22626380108407 bytes) mean compression 17.62 pct\n",
      "\n",
      "14 entries in database which aren't in the 7z archive:\n",
      "4405     APLUWCOVISMBSONAR001_20111002T001157.593Z-DOPPLER\n",
      "4406     APLUWCOVISMBSONAR001_20111003T001156.606Z-DOPPLER\n",
      "4407     APLUWCOVISMBSONAR001_20111003T061155.528Z-DOPPLER\n",
      "4408     APLUWCOVISMBSONAR001_20111004T003551.745Z-DOPPLER\n",
      "4409     APLUWCOVISMBSONAR001_20111004T063549.504Z-DOPPLER\n",
      "4410     APLUWCOVISMBSONAR001_20111005T001156.667Z-DOPPLER\n",
      "4411     APLUWCOVISMBSONAR001_20111005T061159.035Z-DOPPLER\n",
      "18792    APLUWCOVISMBSONAR001_20130619T050812.164Z-DOPPLER\n",
      "18793    APLUWCOVISMBSONAR001_20130619T054735.247Z-DOPPLER\n",
      "18794    APLUWCOVISMBSONAR001_20130619T062704.219Z-DOPPLER\n",
      "18795    APLUWCOVISMBSONAR001_20130619T070616.004Z-DOPPLER\n",
      "18796    APLUWCOVISMBSONAR001_20130619T074543.639Z-DOPPLER\n",
      "18797    APLUWCOVISMBSONAR001_20130619T082459.414Z-DOPPLER\n",
      "24377    APLUWCOVISMBSONAR001_20140209T090955.114Z-DOPPLER\n",
      "Name: basename, dtype: object\n"
     ]
    }
   ],
   "source": [
    "raw_size = data['raw_size'].sum()\n",
    "\n",
    "date_min = data['datetime'].min()\n",
    "date_max = data['datetime'].max()\n",
    "date_span = date_max - date_min\n",
    "\n",
    "# Count number with non-zero gz size\n",
    "gz_files = data[ data['gz_size'] > 0 ]\n",
    "gz_raw_size = gz_files['raw_size'].sum()\n",
    "gz_size  = gz_files['gz_size'].sum()\n",
    "\n",
    "gz_mean_compression = gz_files['gz_size'].sum()/gz_files['raw_size'].sum() \n",
    "print(\"Mean gz compression: %.2f %%\" % (gz_mean_compression*100))\n",
    "\n",
    "\n",
    "print(\"Total of %d data files spanning %d days from %s to %s\" % (len(data.index), date_span.days, \\\n",
    "                                                                date_min.strftime('%Y-%m-%d'), \\\n",
    "                                                                 date_max.strftime('%Y-%m-%d')) )\n",
    "print(\"Raw size % 9.2f GB  (%15d bytes)\" % (raw_size / 1024**3, raw_size))\n",
    "\n",
    "raw_null_files = data[ pd.isnull(data['raw_size']) ]\n",
    "zip_null_files = data[ pd.isnull(data['7z_size']) ]\n",
    "print(\"\")\n",
    "print(\"%d files with no reported raw size\" % len(raw_null_files))\n",
    "print(\"%d files with no reported 7z size\" % len(zip_null_files))\n",
    "\n",
    "print(\"\")\n",
    "print(\"%d files with reported .gz size (only files from Ashes which are posted to S3 bucket)\" % len(gz_files))\n",
    "print(\"gz size  % 9.2f GB  (%15d bytes) mean compression %.2f pct\" % ( gz_size / 1024**3,  gz_size, 100*gz_size/gz_raw_size))\n",
    "\n",
    "\n",
    "\n",
    "\n",
    "zip_files = data[ data['7z_size'] > 0]\n",
    "zip_size = zip_files['7z_size'].sum()\n",
    "zip_raw_size = zip_files['raw_size'].sum()\n",
    "\n",
    "print(\"\")\n",
    "print(\"%d files with reported .7z size\" % len(zip_files))\n",
    "print(\"7z size  % 9.2f GB  (%15d bytes) mean compression %.2f pct\" % (zip_size / 1024**3, zip_size, 100*zip_size/zip_raw_size))\n",
    "\n",
    "\n",
    "print(\"\")\n",
    "print(\"%d entries in database which aren't in the 7z archive:\" % len(zip_null_files))\n",
    "print(zip_null_files['basename'])"
   ]
  },
  {
   "cell_type": "code",
   "execution_count": 6,
   "metadata": {
    "scrolled": true
   },
   "outputs": [
    {
     "name": "stdout",
     "output_type": "stream",
     "text": [
      "Of those, 7390 are from Ashes, 47415 from Endeavor\n",
      "Ashes raw size of 5.45 TB\n",
      "Ashes gz  size of 1.61 TB\n",
      "Ashes 7z  size of 1.00 TB\n",
      "Endeavour raw size of 111.35 TB\n",
      "Endeavour gz  size of 32.93 TB\n",
      "Endeavour 7z  size of 19.58 TB\n"
     ]
    }
   ],
   "source": [
    "ashes = data[ data['site'] =='Ashes' ]\n",
    "endeavour = data[ data['site'] == 'Endeavour']\n",
    "\n",
    "print(\"Of those, %d are from Ashes, %d from Endeavor\" % (len(ashes), len(endeavour)))\n",
    "print(\"Ashes raw size of %.2f TB\" % (ashes['raw_size'].sum() / 1024**4))\n",
    "print(\"Ashes gz  size of %.2f TB\" % (ashes['gz_size'].sum() / 1024**4))\n",
    "print(\"Ashes 7z  size of %.2f TB\" % (ashes['7z_size'].sum() / 1024**4))\n",
    "\n",
    "print(\"Endeavour raw size of %.2f TB\" % (endeavour['raw_size'].sum() / 1024**4))\n",
    "print(\"Endeavour gz  size of %.2f TB\" % (endeavour['raw_size'].sum() * gz_mean_compression / 1024**4))\n",
    "print(\"Endeavour 7z  size of %.2f TB\" % (endeavour['7z_size'].sum() / 1024**4))"
   ]
  },
  {
   "cell_type": "code",
   "execution_count": 7,
   "metadata": {},
   "outputs": [
    {
     "name": "stdout",
     "output_type": "stream",
     "text": [
      "Simplified modes: ['survey' 'imaging' 'diffuse' 'target' 'doppler' 'bathy' 'pano']\n"
     ]
    }
   ],
   "source": [
    "##  Create a \"simplified mode\" column\n",
    "\n",
    "squash = { 'diffuse': re.compile('diffuse*', flags=re.IGNORECASE),\n",
    "            'doppler': re.compile('doppler*', flags=re.IGNORECASE),\n",
    "             'imaging': re.compile('imag*', flags=re.IGNORECASE),\n",
    "             'bathy':  re.compile('bathy*', flags=re.IGNORECASE),\n",
    "             'survey':  re.compile('survey*', flags=re.IGNORECASE),\n",
    "             'pano': re.compile('pano*', flags=re.IGNORECASE)}\n",
    "\n",
    "def simplify_mode(mode):\n",
    "    for key,regex in squash.items():\n",
    "        if regex.match(mode):\n",
    "            return key\n",
    "\n",
    "    return mode\n",
    "\n",
    "data['simple_mode'] = data.apply(lambda row: simplify_mode( row['mode'] ), axis=1 )\n",
    "\n",
    "print(\"Simplified modes: %s\" % data.simple_mode.unique())"
   ]
  },
  {
   "cell_type": "code",
   "execution_count": 8,
   "metadata": {},
   "outputs": [
    {
     "name": "stdout",
     "output_type": "stream",
     "text": [
      "COVIS ran on 1555 days, averaging 1.06 GB per day (as gz)\n",
      "    survey : 3\n",
      "   imaging : 11733\n",
      "   diffuse : 33045\n",
      "    target : 18\n",
      "   doppler : 9984\n",
      "     bathy : 3\n",
      "      pano : 19\n"
     ]
    }
   ],
   "source": [
    "dates = {}\n",
    "types = {}\n",
    "\n",
    "for index, entry in data.iterrows():\n",
    "    dates[ entry['datetime'].date() ] = True\n",
    "        \n",
    "    if entry.simple_mode not in types:\n",
    "        types[entry.simple_mode] = 0\n",
    "        \n",
    "    types[entry.simple_mode] += 1\n",
    "    \n",
    "print(\"COVIS ran on %d days, averaging %.2f GB per day (as gz)\" % (len(dates), (gz_size / (1024**3*len(dates)))))\n",
    "    \n",
    "for mode,count in types.items():\n",
    "    print(\"%10s : %d\" % (mode,count))\n",
    "    "
   ]
  },
  {
   "cell_type": "code",
   "execution_count": 9,
   "metadata": {},
   "outputs": [
    {
     "name": "stdout",
     "output_type": "stream",
     "text": [
      "   survey1 : 1\n",
      "   survey2 : 1\n",
      "   imaging : 1\n",
      "   diffuse : 9\n",
      "   survey3 : 1\n",
      "  diffuse3 : 479\n",
      "  diffuse2 : 515\n",
      "  diffuse1 : 480\n",
      "    target : 18\n",
      "  imaging1 : 177\n",
      "  imaging2 : 180\n",
      "  imaging3 : 184\n",
      "  doppler1 : 1\n",
      "  doppler2 : 97\n",
      "  doppler3 : 1\n",
      "diffuse2up : 1\n",
      "diffuse2down : 3\n",
      "diffuse3down : 1\n",
      "diffuse1down : 1\n",
      "    bathy2 : 1\n",
      "    bathy1 : 1\n",
      "    bathy3 : 1\n",
      "diffuse3deep : 213\n",
      "diffuse1deep : 206\n",
      "diffuse2deep : 217\n",
      "diffuse2shallow : 219\n",
      "diffuse1shallow : 214\n",
      "diffuse3shallow : 216\n",
      "   IMAGING : 10185\n",
      "   DOPPLER : 9885\n",
      "   DIFFUSE : 27320\n",
      "DIFFUSESLOW : 25\n",
      "  panoleft : 8\n",
      "panocenter : 7\n",
      " panoright : 2\n",
      "diffuseright : 1473\n",
      "diffuseleft : 1453\n",
      " panoleft2 : 1\n",
      "panoright2 : 1\n",
      " imageleft : 503\n",
      "imagecenter : 503\n"
     ]
    }
   ],
   "source": [
    "types = {}\n",
    "for index, entry in data.iterrows():\n",
    "    if entry['mode'] not in types:\n",
    "        types[entry['mode']] = 0\n",
    "        \n",
    "    types[entry['mode']] += 1\n",
    "    \n",
    "for mode,count in types.items():\n",
    "    print(\"%10s : %d\" % (mode,count))"
   ]
  },
  {
   "cell_type": "code",
   "execution_count": 11,
   "metadata": {
    "scrolled": true
   },
   "outputs": [
    {
     "name": "stdout",
     "output_type": "stream",
     "text": [
      "                raw_size       gz_size       7z_size  count\n",
      "datetime                                                   \n",
      "2010-09-30  4.763727e+09  0.000000e+00  5.020949e+08      5\n",
      "2010-10-01  3.435868e+10  0.000000e+00  3.637471e+09     25\n",
      "2010-10-03  2.820403e+10  0.000000e+00  3.029009e+09     20\n",
      "2010-10-04  2.829030e+10  0.000000e+00  3.053333e+09     20\n",
      "2010-10-05  1.664281e+10  0.000000e+00  1.751959e+09     15\n",
      "2010-10-06  5.549547e+10  0.000000e+00  5.535275e+09     24\n",
      "2010-10-07  1.387387e+10  0.000000e+00  1.371228e+09      7\n",
      "2010-10-09  6.617524e+10  0.000000e+00  6.797956e+09     40\n",
      "2010-10-10  1.102110e+11  0.000000e+00  1.094398e+10     48\n",
      "2010-10-11  1.109909e+11  0.000000e+00  1.104604e+10     48\n",
      "2010-10-12  1.109898e+11  0.000000e+00  1.106206e+10     48\n",
      "2010-10-13  1.109909e+11  0.000000e+00  1.113852e+10     48\n",
      "2010-10-14  1.109874e+11  0.000000e+00  1.111832e+10     48\n",
      "2010-10-15  1.109898e+11  0.000000e+00  1.118355e+10     48\n",
      "2010-10-16  1.109898e+11  0.000000e+00  1.117985e+10     48\n",
      "2010-10-17  1.103528e+11  0.000000e+00  1.109957e+10     48\n",
      "2010-10-18  9.711708e+10  0.000000e+00  9.729790e+09     42\n",
      "2010-10-19  4.722313e+10  0.000000e+00  4.807684e+09     19\n",
      "2010-10-20  1.109909e+11  0.000000e+00  1.123182e+10     48\n",
      "2010-10-21  1.109886e+11  0.000000e+00  1.118974e+10     48\n",
      "2010-10-22  1.109898e+11  0.000000e+00  1.118246e+10     48\n",
      "2010-10-23  1.109862e+11  0.000000e+00  1.220225e+10     48\n",
      "2010-10-24  1.102051e+11  0.000000e+00  1.116076e+10     48\n",
      "2010-10-25  1.109862e+11  0.000000e+00  1.093714e+10     48\n",
      "2010-10-26  1.362570e+10  0.000000e+00  2.193539e+09      7\n",
      "2011-09-25  1.183647e+07  0.000000e+00  2.210987e+06      1\n",
      "2011-09-26  2.431823e+10  0.000000e+00  4.158002e+09     13\n",
      "2011-09-27  6.513865e+10  0.000000e+00  1.098033e+10     32\n",
      "2011-09-28  0.000000e+00  0.000000e+00  1.729949e+10     48\n",
      "2011-09-29  0.000000e+00  0.000000e+00  1.776505e+10     48\n",
      "...                  ...           ...           ...    ...\n",
      "2019-03-05  3.077587e+10  1.099066e+10  7.080477e+09     32\n",
      "2019-03-06  3.077587e+10  1.094808e+10  7.068800e+09     32\n",
      "2019-03-07  3.077587e+10  1.094445e+10  7.099272e+09     32\n",
      "2019-03-08  3.077587e+10  1.088949e+10  7.066677e+09     32\n",
      "2019-03-09  3.077587e+10  1.092898e+10  7.077682e+09     32\n",
      "2019-03-10  3.077587e+10  1.098712e+10  7.108140e+09     32\n",
      "2019-03-11  3.077587e+10  1.085591e+10  7.032888e+09     32\n",
      "2019-03-12  3.077587e+10  1.081622e+10  7.026637e+09     32\n",
      "2019-03-13  3.077587e+10  1.097849e+10  7.110585e+09     32\n",
      "2019-03-14  3.077587e+10  1.094227e+10  7.083246e+09     32\n",
      "2019-03-15  3.077587e+10  1.099661e+10  7.119783e+09     32\n",
      "2019-03-16  3.077587e+10  1.089834e+10  7.057072e+09     32\n",
      "2019-03-17  3.077587e+10  1.093138e+10  7.074170e+09     32\n",
      "2019-03-18  3.077587e+10  1.099162e+10  7.107370e+09     32\n",
      "2019-03-19  3.077587e+10  1.093525e+10  7.076483e+09     32\n",
      "2019-03-20  3.077587e+10  1.084841e+10  6.992749e+09     32\n",
      "2019-03-21  3.077587e+10  1.088339e+10  7.036442e+09     32\n",
      "2019-03-22  3.077587e+10  1.085381e+10  7.017050e+09     32\n",
      "2019-03-23  3.077587e+10  1.091598e+10  7.054216e+09     32\n",
      "2019-03-24  3.077587e+10  1.090465e+10  7.051187e+09     32\n",
      "2019-03-25  3.077587e+10  1.081097e+10  7.002246e+09     32\n",
      "2019-03-26  3.077587e+10  1.089827e+10  7.044685e+09     32\n",
      "2019-03-27  3.077587e+10  1.096263e+10  7.054495e+09     32\n",
      "2019-03-28  3.077587e+10  1.087156e+10  7.025225e+09     32\n",
      "2019-03-29  3.077587e+10  1.082549e+10  6.957910e+09     32\n",
      "2019-03-30  3.077587e+10  1.089377e+10  7.040270e+09     32\n",
      "2019-03-31  3.077587e+10  1.091402e+10  7.059674e+09     32\n",
      "2019-04-01  3.077587e+10  1.088396e+10  7.046339e+09     32\n",
      "2019-04-02  3.077587e+10  1.086245e+10  7.032853e+09     32\n",
      "2019-04-03  2.308190e+10  8.300202e+09  5.335630e+09     24\n",
      "\n",
      "[1555 rows x 4 columns]\n"
     ]
    }
   ],
   "source": [
    "## Calculate mean counts and size per day\n",
    "\n",
    "by_date = data.set_index('datetime')\n",
    "by_day = by_date.resample('D').sum()\n",
    "by_day['count'] = by_date.basename.resample('D').count()\n",
    "by_day = by_day[ by_day['count'] > 0 ]\n",
    "\n",
    "print(by_day)\n",
    "\n",
    "## by_day is now the _total_ amount of data produced per day\n",
    "\n",
    "## by_month is the _mean daily_ data\n",
    "by_month = by_day.resample('M').mean()\n",
    "\n",
    "def estimate_gz(row):\n",
    "    if row.gz_size == 0.0:\n",
    "        return gz_mean_compression*row.raw_size\n",
    "    \n",
    "    return 0.0\n",
    "    \n",
    "by_month['estimated_gz_size'] = by_month.apply(lambda row: estimate_gz( row ), axis=1 )\n",
    "by_day['estimated_gz_size'] = by_day.apply(lambda row: estimate_gz( row ), axis=1 )\n",
    "\n"
   ]
  },
  {
   "cell_type": "code",
   "execution_count": 12,
   "metadata": {},
   "outputs": [
    {
     "name": "stderr",
     "output_type": "stream",
     "text": [
      "/Users/aaron/miniconda3/envs/covis/lib/python3.7/site-packages/pandas/plotting/_converter.py:129: FutureWarning: Using an implicitly registered datetime converter for a matplotlib plotting method. The converter was registered by pandas on import. Future versions of pandas will require you to explicitly register matplotlib converters.\n",
      "\n",
      "To register the converters:\n",
      "\t>>> from pandas.plotting import register_matplotlib_converters\n",
      "\t>>> register_matplotlib_converters()\n",
      "  warnings.warn(msg, FutureWarning)\n"
     ]
    },
    {
     "data": {
      "image/png": "[encoded data removed]",
      "text/plain": [
       "<Figure size 1152x576 with 1 Axes>"
      ]
     },
     "metadata": {
      "needs_background": "light"
     },
     "output_type": "display_data"
    }
   ],
   "source": [
    "plt.figure( figsize=(16,8))\n",
    "yscalar = 1.0 / 1024**3\n",
    "plt.bar( by_month.index, by_month.gz_size * yscalar, width=20, label='gz' )\n",
    "plt.bar( by_month.index, by_month.estimated_gz_size * yscalar, width=20, label='est. gz' )\n",
    "plt.bar( by_month.index, by_month['7z_size'] * yscalar, width=20, label='7z' )\n",
    "\n",
    "\n",
    "plt.ylabel('Mean daily data production (GB/day)')\n",
    "plt.legend()\n",
    "\n",
    "plt.show()"
   ]
  },
  {
   "cell_type": "code",
   "execution_count": 13,
   "metadata": {},
   "outputs": [
    {
     "data": {
      "image/png": "[encoded data removed]",
      "text/plain": [
       "<Figure size 1152x576 with 1 Axes>"
      ]
     },
     "metadata": {
      "needs_background": "light"
     },
     "output_type": "display_data"
    }
   ],
   "source": [
    "plt.figure( figsize=(16,8))\n",
    "yscalar = 1.0 / 1024**3\n",
    "plt.bar( by_month.index, by_month.gz_size * yscalar, width=20, label='Ashes' )\n",
    "plt.bar( by_month.index, by_month.estimated_gz_size * yscalar, width=20, label='Endeavour' )\n",
    "\n",
    "\n",
    "plt.ylabel('Mean daily data production (GB/day)')\n",
    "plt.legend()\n",
    "\n",
    "plt.show()"
   ]
  },
  {
   "cell_type": "code",
   "execution_count": 160,
   "metadata": {
    "scrolled": true
   },
   "outputs": [
    {
     "data": {
      "image/png": "[encoded data removed]",
      "text/plain": [
       "<Figure size 1152x576 with 1 Axes>"
      ]
     },
     "metadata": {
      "needs_background": "light"
     },
     "output_type": "display_data"
    },
    {
     "name": "stdout",
     "output_type": "stream",
     "text": [
      "                raw_size       gz_size       7z_size  count  \\\n",
      "datetime                                                      \n",
      "2010-09-30  4.763727e+09  0.000000e+00  5.020949e+08      5   \n",
      "2010-10-01  3.435868e+10  0.000000e+00  3.637471e+09     25   \n",
      "2010-10-02  0.000000e+00  0.000000e+00  0.000000e+00      0   \n",
      "2010-10-03  2.820403e+10  0.000000e+00  3.029009e+09     20   \n",
      "2010-10-04  2.829030e+10  0.000000e+00  3.053333e+09     20   \n",
      "2010-10-05  1.664281e+10  0.000000e+00  1.751959e+09     15   \n",
      "2010-10-06  5.549547e+10  0.000000e+00  5.535275e+09     24   \n",
      "2010-10-07  1.387387e+10  0.000000e+00  1.371228e+09      7   \n",
      "2010-10-08  0.000000e+00  0.000000e+00  0.000000e+00      0   \n",
      "2010-10-09  6.617524e+10  0.000000e+00  6.797956e+09     40   \n",
      "2010-10-10  1.102110e+11  0.000000e+00  1.094398e+10     48   \n",
      "2010-10-11  1.109909e+11  0.000000e+00  1.104604e+10     48   \n",
      "2010-10-12  1.109898e+11  0.000000e+00  1.106206e+10     48   \n",
      "2010-10-13  1.109909e+11  0.000000e+00  1.113852e+10     48   \n",
      "2010-10-14  1.109874e+11  0.000000e+00  1.111832e+10     48   \n",
      "2010-10-15  1.109898e+11  0.000000e+00  1.118355e+10     48   \n",
      "2010-10-16  1.109898e+11  0.000000e+00  1.117985e+10     48   \n",
      "2010-10-17  1.103528e+11  0.000000e+00  1.109957e+10     48   \n",
      "2010-10-18  9.711708e+10  0.000000e+00  9.729790e+09     42   \n",
      "2010-10-19  4.722313e+10  0.000000e+00  4.807684e+09     19   \n",
      "2010-10-20  1.109909e+11  0.000000e+00  1.123182e+10     48   \n",
      "2010-10-21  1.109886e+11  0.000000e+00  1.118974e+10     48   \n",
      "2010-10-22  1.109898e+11  0.000000e+00  1.118246e+10     48   \n",
      "2010-10-23  1.109862e+11  0.000000e+00  1.220225e+10     48   \n",
      "2010-10-24  1.102051e+11  0.000000e+00  1.116076e+10     48   \n",
      "2010-10-25  1.109862e+11  0.000000e+00  1.093714e+10     48   \n",
      "2010-10-26  1.362570e+10  0.000000e+00  2.193539e+09      7   \n",
      "2010-10-27  0.000000e+00  0.000000e+00  0.000000e+00      0   \n",
      "2010-10-28  0.000000e+00  0.000000e+00  0.000000e+00      0   \n",
      "2010-10-29  0.000000e+00  0.000000e+00  0.000000e+00      0   \n",
      "...                  ...           ...           ...    ...   \n",
      "2019-03-05  3.077587e+10  1.099066e+10  7.080477e+09     32   \n",
      "2019-03-06  3.077587e+10  1.094808e+10  7.068800e+09     32   \n",
      "2019-03-07  3.077587e+10  1.094445e+10  7.099272e+09     32   \n",
      "2019-03-08  3.077587e+10  1.088949e+10  7.066677e+09     32   \n",
      "2019-03-09  3.077587e+10  1.092898e+10  7.077682e+09     32   \n",
      "2019-03-10  3.077587e+10  1.098712e+10  7.108140e+09     32   \n",
      "2019-03-11  3.077587e+10  1.085591e+10  7.032888e+09     32   \n",
      "2019-03-12  3.077587e+10  1.081622e+10  7.026637e+09     32   \n",
      "2019-03-13  3.077587e+10  1.097849e+10  7.110585e+09     32   \n",
      "2019-03-14  3.077587e+10  1.094227e+10  7.083246e+09     32   \n",
      "2019-03-15  3.077587e+10  1.099661e+10  7.119783e+09     32   \n",
      "2019-03-16  3.077587e+10  1.089834e+10  7.057072e+09     32   \n",
      "2019-03-17  3.077587e+10  1.093138e+10  7.074170e+09     32   \n",
      "2019-03-18  3.077587e+10  1.099162e+10  7.107370e+09     32   \n",
      "2019-03-19  3.077587e+10  1.093525e+10  7.076483e+09     32   \n",
      "2019-03-20  3.077587e+10  1.084841e+10  6.992749e+09     32   \n",
      "2019-03-21  3.077587e+10  1.088339e+10  7.036442e+09     32   \n",
      "2019-03-22  3.077587e+10  1.085381e+10  7.017050e+09     32   \n",
      "2019-03-23  3.077587e+10  1.091598e+10  7.054216e+09     32   \n",
      "2019-03-24  3.077587e+10  1.090465e+10  7.051187e+09     32   \n",
      "2019-03-25  3.077587e+10  1.081097e+10  7.002246e+09     32   \n",
      "2019-03-26  3.077587e+10  1.089827e+10  7.044685e+09     32   \n",
      "2019-03-27  3.077587e+10  1.096263e+10  7.054495e+09     32   \n",
      "2019-03-28  3.077587e+10  1.087156e+10  7.025225e+09     32   \n",
      "2019-03-29  3.077587e+10  1.082549e+10  6.957910e+09     32   \n",
      "2019-03-30  3.077587e+10  1.089377e+10  7.040270e+09     32   \n",
      "2019-03-31  3.077587e+10  1.091402e+10  7.059674e+09     32   \n",
      "2019-04-01  3.077587e+10  1.088396e+10  7.046339e+09     32   \n",
      "2019-04-02  3.077587e+10  1.086245e+10  7.032853e+09     32   \n",
      "2019-04-03  2.308190e+10  8.300202e+09  5.335630e+09     24   \n",
      "\n",
      "            estimated_gz_size      gz_total  raw_accumulated  gz_accumulated  \\\n",
      "datetime                                                                       \n",
      "2010-09-30       1.408880e+09  1.408880e+09     4.763727e+09    1.408880e+09   \n",
      "2010-10-01       1.016163e+10  1.016163e+10     3.912241e+10    1.157051e+10   \n",
      "2010-10-02       0.000000e+00  0.000000e+00     3.912241e+10    1.157051e+10   \n",
      "2010-10-03       8.341387e+09  8.341387e+09     6.732644e+10    1.991190e+10   \n",
      "2010-10-04       8.366901e+09  8.366901e+09     9.561674e+10    2.827880e+10   \n",
      "2010-10-05       4.922137e+09  4.922137e+09     1.122595e+11    3.320094e+10   \n",
      "2010-10-06       1.641287e+10  1.641287e+10     1.677550e+11    4.961381e+10   \n",
      "2010-10-07       4.103218e+09  4.103218e+09     1.816289e+11    5.371703e+10   \n",
      "2010-10-08       0.000000e+00  0.000000e+00     1.816289e+11    5.371703e+10   \n",
      "2010-10-09       1.957143e+10  1.957143e+10     2.478041e+11    7.328846e+10   \n",
      "2010-10-10       3.259507e+10  3.259507e+10     3.580151e+11    1.058835e+11   \n",
      "2010-10-11       3.282575e+10  3.282575e+10     4.690061e+11    1.387093e+11   \n",
      "2010-10-12       3.282540e+10  3.282540e+10     5.799958e+11    1.715347e+11   \n",
      "2010-10-13       3.282575e+10  3.282575e+10     6.909868e+11    2.043604e+11   \n",
      "2010-10-14       3.282470e+10  3.282470e+10     8.019742e+11    2.371851e+11   \n",
      "2010-10-15       3.282540e+10  3.282540e+10     9.129639e+11    2.700105e+11   \n",
      "2010-10-16       3.282540e+10  3.282540e+10     1.023954e+12    3.028359e+11   \n",
      "2010-10-17       3.263701e+10  3.263701e+10     1.134306e+12    3.354729e+11   \n",
      "2010-10-18       2.872253e+10  2.872253e+10     1.231424e+12    3.641955e+11   \n",
      "2010-10-19       1.396631e+10  1.396631e+10     1.278647e+12    3.781618e+11   \n",
      "2010-10-20       3.282575e+10  3.282575e+10     1.389638e+12    4.109875e+11   \n",
      "2010-10-21       3.282505e+10  3.282505e+10     1.500626e+12    4.438126e+11   \n",
      "2010-10-22       3.282540e+10  3.282540e+10     1.611616e+12    4.766380e+11   \n",
      "2010-10-23       3.282435e+10  3.282435e+10     1.722602e+12    5.094623e+11   \n",
      "2010-10-24       3.259333e+10  3.259333e+10     1.832807e+12    5.420556e+11   \n",
      "2010-10-25       3.282435e+10  3.282435e+10     1.943794e+12    5.748800e+11   \n",
      "2010-10-26       4.029823e+09  4.029823e+09     1.957419e+12    5.789098e+11   \n",
      "2010-10-27       0.000000e+00  0.000000e+00     1.957419e+12    5.789098e+11   \n",
      "2010-10-28       0.000000e+00  0.000000e+00     1.957419e+12    5.789098e+11   \n",
      "2010-10-29       0.000000e+00  0.000000e+00     1.957419e+12    5.789098e+11   \n",
      "...                       ...           ...              ...             ...   \n",
      "2019-03-05       0.000000e+00  1.099066e+10     1.275324e+14    3.766591e+13   \n",
      "2019-03-06       0.000000e+00  1.094808e+10     1.275631e+14    3.767685e+13   \n",
      "2019-03-07       0.000000e+00  1.094445e+10     1.275939e+14    3.768780e+13   \n",
      "2019-03-08       0.000000e+00  1.088949e+10     1.276247e+14    3.769869e+13   \n",
      "2019-03-09       0.000000e+00  1.092898e+10     1.276555e+14    3.770962e+13   \n",
      "2019-03-10       0.000000e+00  1.098712e+10     1.276862e+14    3.772060e+13   \n",
      "2019-03-11       0.000000e+00  1.085591e+10     1.277170e+14    3.773146e+13   \n",
      "2019-03-12       0.000000e+00  1.081622e+10     1.277478e+14    3.774228e+13   \n",
      "2019-03-13       0.000000e+00  1.097849e+10     1.277786e+14    3.775325e+13   \n",
      "2019-03-14       0.000000e+00  1.094227e+10     1.278093e+14    3.776420e+13   \n",
      "2019-03-15       0.000000e+00  1.099661e+10     1.278401e+14    3.777519e+13   \n",
      "2019-03-16       0.000000e+00  1.089834e+10     1.278709e+14    3.778609e+13   \n",
      "2019-03-17       0.000000e+00  1.093138e+10     1.279017e+14    3.779702e+13   \n",
      "2019-03-18       0.000000e+00  1.099162e+10     1.279324e+14    3.780801e+13   \n",
      "2019-03-19       0.000000e+00  1.093525e+10     1.279632e+14    3.781895e+13   \n",
      "2019-03-20       0.000000e+00  1.084841e+10     1.279940e+14    3.782980e+13   \n",
      "2019-03-21       0.000000e+00  1.088339e+10     1.280248e+14    3.784068e+13   \n",
      "2019-03-22       0.000000e+00  1.085381e+10     1.280556e+14    3.785154e+13   \n",
      "2019-03-23       0.000000e+00  1.091598e+10     1.280863e+14    3.786245e+13   \n",
      "2019-03-24       0.000000e+00  1.090465e+10     1.281171e+14    3.787336e+13   \n",
      "2019-03-25       0.000000e+00  1.081097e+10     1.281479e+14    3.788417e+13   \n",
      "2019-03-26       0.000000e+00  1.089827e+10     1.281787e+14    3.789506e+13   \n",
      "2019-03-27       0.000000e+00  1.096263e+10     1.282094e+14    3.790603e+13   \n",
      "2019-03-28       0.000000e+00  1.087156e+10     1.282402e+14    3.791690e+13   \n",
      "2019-03-29       0.000000e+00  1.082549e+10     1.282710e+14    3.792772e+13   \n",
      "2019-03-30       0.000000e+00  1.089377e+10     1.283018e+14    3.793862e+13   \n",
      "2019-03-31       0.000000e+00  1.091402e+10     1.283325e+14    3.794953e+13   \n",
      "2019-04-01       0.000000e+00  1.088396e+10     1.283633e+14    3.796042e+13   \n",
      "2019-04-02       0.000000e+00  1.086245e+10     1.283941e+14    3.797128e+13   \n",
      "2019-04-03       0.000000e+00  8.300202e+09     1.284172e+14    3.797958e+13   \n",
      "\n",
      "            7z_accumulated  \n",
      "datetime                    \n",
      "2010-09-30    5.020949e+08  \n",
      "2010-10-01    4.139565e+09  \n",
      "2010-10-02    4.139565e+09  \n",
      "2010-10-03    7.168574e+09  \n",
      "2010-10-04    1.022191e+10  \n",
      "2010-10-05    1.197387e+10  \n",
      "2010-10-06    1.750914e+10  \n",
      "2010-10-07    1.888037e+10  \n",
      "2010-10-08    1.888037e+10  \n",
      "2010-10-09    2.567833e+10  \n",
      "2010-10-10    3.662231e+10  \n",
      "2010-10-11    4.766835e+10  \n",
      "2010-10-12    5.873041e+10  \n",
      "2010-10-13    6.986893e+10  \n",
      "2010-10-14    8.098726e+10  \n",
      "2010-10-15    9.217081e+10  \n",
      "2010-10-16    1.033507e+11  \n",
      "2010-10-17    1.144502e+11  \n",
      "2010-10-18    1.241800e+11  \n",
      "2010-10-19    1.289877e+11  \n",
      "2010-10-20    1.402195e+11  \n",
      "2010-10-21    1.514093e+11  \n",
      "2010-10-22    1.625917e+11  \n",
      "2010-10-23    1.747940e+11  \n",
      "2010-10-24    1.859547e+11  \n",
      "2010-10-25    1.968919e+11  \n",
      "2010-10-26    1.990854e+11  \n",
      "2010-10-27    1.990854e+11  \n",
      "2010-10-28    1.990854e+11  \n",
      "2010-10-29    1.990854e+11  \n",
      "...                    ...  \n",
      "2019-03-05    2.242352e+13  \n",
      "2019-03-06    2.243059e+13  \n",
      "2019-03-07    2.243769e+13  \n",
      "2019-03-08    2.244476e+13  \n",
      "2019-03-09    2.245183e+13  \n",
      "2019-03-10    2.245894e+13  \n",
      "2019-03-11    2.246597e+13  \n",
      "2019-03-12    2.247300e+13  \n",
      "2019-03-13    2.248011e+13  \n",
      "2019-03-14    2.248719e+13  \n",
      "2019-03-15    2.249431e+13  \n",
      "2019-03-16    2.250137e+13  \n",
      "2019-03-17    2.250845e+13  \n",
      "2019-03-18    2.251555e+13  \n",
      "2019-03-19    2.252263e+13  \n",
      "2019-03-20    2.252962e+13  \n",
      "2019-03-21    2.253666e+13  \n",
      "2019-03-22    2.254368e+13  \n",
      "2019-03-23    2.255073e+13  \n",
      "2019-03-24    2.255778e+13  \n",
      "2019-03-25    2.256478e+13  \n",
      "2019-03-26    2.257183e+13  \n",
      "2019-03-27    2.257888e+13  \n",
      "2019-03-28    2.258591e+13  \n",
      "2019-03-29    2.259287e+13  \n",
      "2019-03-30    2.259991e+13  \n",
      "2019-03-31    2.260697e+13  \n",
      "2019-04-01    2.261401e+13  \n",
      "2019-04-02    2.262104e+13  \n",
      "2019-04-03    2.262638e+13  \n",
      "\n",
      "[3108 rows x 9 columns]\n"
     ]
    }
   ],
   "source": [
    "\n",
    "by_day['gz_total'] = by_day['gz_size'] + by_day['estimated_gz_size']\n",
    "\n",
    "by_day['raw_accumulated'] = by_day['raw_size'].cumsum()\n",
    "by_day['gz_accumulated'] = by_day['gz_total'].cumsum()\n",
    "by_day['7z_accumulated'] = by_day['7z_size'].cumsum()\n",
    "\n",
    "\n",
    "plt.figure( figsize=(16,8) )\n",
    "plt.plot( by_day.index, by_day.gz_accumulated * yscalar, label='gz' )\n",
    "plt.plot( by_day.index, by_day['7z_accumulated'] * yscalar , label='7z' )\n",
    "\n",
    "plt.ylabel('Total GB of data')\n",
    "plt.legend()\n",
    "plt.show()\n",
    "\n",
    "print(by_day)\n"
   ]
  },
  {
   "cell_type": "code",
   "execution_count": null,
   "metadata": {},
   "outputs": [],
   "source": []
  },
  {
   "cell_type": "code",
   "execution_count": 44,
   "metadata": {},
   "outputs": [
    {
     "name": "stdout",
     "output_type": "stream",
     "text": [
      "['Ashes' 'Endeavour']\n"
     ]
    },
    {
     "data": {
      "image/png": "[encoded data removed]",
      "text/plain": [
       "<Figure size 1152x576 with 1 Axes>"
      ]
     },
     "metadata": {
      "needs_background": "light"
     },
     "output_type": "display_data"
    }
   ],
   "source": [
    "## Select only the Endeavour data\n",
    "\n",
    "print( data.site.unique() )\n",
    "\n",
    "endeavour = data[ data['site']=='Endeavour']\n",
    "enddate = endeavour.set_index('datetime')\n",
    "\n",
    "## count simplified modes\n",
    "endimg = enddate[ enddate['simple_mode'] == 'imaging']\n",
    "enddop = enddate[ enddate['simple_mode'] == 'doppler']\n",
    "enddif = enddate[ enddate['simple_mode'] == 'diffuse']\n",
    "\n",
    "perday = pd.DataFrame()\n",
    "perday['doppler'] = enddop.basename.resample('D').count()\n",
    "perday['imaging'] = endimg.basename.resample('D').count()\n",
    "perday['diffuse'] = enddif.basename.resample('D').count()\n",
    "\n",
    "\n",
    "\n",
    "# endimgday = endimgday[ endimgday > 0 ]\n",
    "\n",
    "## by_day is now the _total_ amount of data produced per day\n",
    "\n",
    "## by_month is the _mean daily_ data\n",
    "permonth = perday.resample('M').mean()\n",
    "\n",
    "\n",
    "plt.figure( figsize=(16,8))\n",
    "\n",
    "plt.bar( permonth.index.shift(-10, freq='D'), permonth.doppler, width=10, label='Doppler' )\n",
    "plt.bar( permonth.index, permonth.imaging, width=10, label='Imaging' )\n",
    "plt.bar( permonth.index.shift(10, freq='D'), permonth.diffuse, width=10, label='Diffuse' )\n",
    "\n",
    "plt.ylabel('Mean daily runs (per day)')\n",
    "plt.legend()\n",
    "\n",
    "plt.show()\n"
   ]
  },
  {
   "cell_type": "code",
   "execution_count": null,
   "metadata": {},
   "outputs": [],
   "source": []
  }
 ],
 "metadata": {
  "kernelspec": {
   "display_name": "Python 3",
   "language": "python",
   "name": "python3"
  },
  "language_info": {
   "codemirror_mode": {
    "name": "ipython",
    "version": 3
   },
   "file_extension": ".py",
   "mimetype": "text/x-python",
   "name": "python",
   "nbconvert_exporter": "python",
   "pygments_lexer": "ipython3",
   "version": "3.7.3"
  }
 },
 "nbformat": 4,
 "nbformat_minor": 2
}
